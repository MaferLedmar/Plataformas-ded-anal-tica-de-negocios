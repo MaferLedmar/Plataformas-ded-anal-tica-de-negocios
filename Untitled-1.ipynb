{
 "cells": [
  {
   "cell_type": "code",
   "execution_count": null,
   "metadata": {},
   "outputs": [],
   "source": []
  }
 ],
 "metadata": {
  "kernelspec": {
   "display_name": "Python 3.10.6 64-bit",
   "language": "python",
   "name": "python3"
  },
  "language_info": {
   "name": "python",
   "version": "3.10.6"
  },
  "orig_nbformat": 4,
  "vscode": {
   "interpreter": {
    "hash": "ef45b52c2b7cb5d7bca74e37e27ebb472fe355b35ff09895e0ca6b01ace01ccf"
   }
  }
 },
 "nbformat": 4,
 "nbformat_minor": 2
}
